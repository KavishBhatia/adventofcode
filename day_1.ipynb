{
 "cells": [
  {
   "cell_type": "code",
   "execution_count": 1,
   "metadata": {},
   "outputs": [],
   "source": [
    "with open(\"files/input_day1.txt\", \"r\") as f:\n",
    "    inp = f.readlines()\n"
   ]
  },
  {
   "cell_type": "code",
   "execution_count": null,
   "metadata": {},
   "outputs": [],
   "source": [
    "def get_data(data):    \n",
    "    data = data.split('\\n')\n",
    "    return data\n",
    "\n",
    "r_p_s = [x.split(' ') for x in get_data(inp)]\n",
    "\n",
    "r_p_s\n"
   ]
  },
  {
   "cell_type": "code",
   "execution_count": null,
   "metadata": {},
   "outputs": [],
   "source": [
    "len(inp[8].rstrip(\"\\n\"))"
   ]
  },
  {
   "cell_type": "code",
   "execution_count": 5,
   "metadata": {},
   "outputs": [],
   "source": [
    "# def p1(data):\n",
    "temp = []\n",
    "inps = []\n",
    "\n",
    "for i in inp:\n",
    "    element = i.rstrip(\"\\n\")\n",
    "    if len(element) > 0:\n",
    "        temp.append(int(element))\n",
    "    elif len(element) == 0:\n",
    "        inps.append(sum(temp))\n",
    "        temp = []\n",
    "\n",
    "    # max = 0\n",
    "    # for l in inps:\n",
    "    #     s = sum(l)\n",
    "    #     if s > max:\n",
    "    #         max = s\n",
    "    # return max\n",
    "    # return inps"
   ]
  },
  {
   "cell_type": "code",
   "execution_count": 9,
   "metadata": {},
   "outputs": [],
   "source": [
    "inps.sort(reverse=True)"
   ]
  },
  {
   "cell_type": "code",
   "execution_count": 10,
   "metadata": {},
   "outputs": [
    {
     "data": {
      "text/plain": [
       "68802"
      ]
     },
     "execution_count": 10,
     "metadata": {},
     "output_type": "execute_result"
    }
   ],
   "source": [
    "inps[0]"
   ]
  },
  {
   "cell_type": "code",
   "execution_count": null,
   "metadata": {},
   "outputs": [],
   "source": [
    "def p2(data):\n",
    "    total_calories = list()\n",
    "    for l in inps:\n",
    "        total_calories.append(sum(l))\n",
    "\n",
    "\n",
    "    total_calories.sort(reverse=True)\n",
    "    return sum(total_calories[:3])"
   ]
  },
  {
   "cell_type": "code",
   "execution_count": null,
   "metadata": {},
   "outputs": [],
   "source": [
    "print(p2(inps))"
   ]
  },
  {
   "cell_type": "code",
   "execution_count": 11,
   "metadata": {},
   "outputs": [
    {
     "data": {
      "text/plain": [
       "205370"
      ]
     },
     "execution_count": 11,
     "metadata": {},
     "output_type": "execute_result"
    }
   ],
   "source": [
    "sum(inps[:3])"
   ]
  },
  {
   "cell_type": "code",
   "execution_count": null,
   "metadata": {},
   "outputs": [],
   "source": [
    "def test_part1():\n",
    "    assert part1(test_data) == 24000\n",
    "\n",
    "\n",
    "def test_part2():\n",
    "    assert part2(test_data) == 45000\n",
    "\n",
    "\n",
    "data = get_data(day=1, year=2022)\n",
    "\n",
    "print(part1(data))\n",
    "print(part2(data))\n",
    "\n",
    "test_data = \"\"\"1000\n",
    "2000\n",
    "3000\n",
    "4000\n",
    "5000\n",
    "6000\n",
    "7000\n",
    "8000\n",
    "9000\n",
    "10000\"\"\""
   ]
  }
 ],
 "metadata": {
  "kernelspec": {
   "display_name": "Python 3.9.8 ('.venv': venv)",
   "language": "python",
   "name": "python3"
  },
  "language_info": {
   "codemirror_mode": {
    "name": "ipython",
    "version": 3
   },
   "file_extension": ".py",
   "mimetype": "text/x-python",
   "name": "python",
   "nbconvert_exporter": "python",
   "pygments_lexer": "ipython3",
   "version": "3.9.8"
  },
  "orig_nbformat": 4,
  "vscode": {
   "interpreter": {
    "hash": "3db6c792dc5c4fddc18692cc583564bc3e75ba689f4f337f058c633bd8e17457"
   }
  }
 },
 "nbformat": 4,
 "nbformat_minor": 2
}
